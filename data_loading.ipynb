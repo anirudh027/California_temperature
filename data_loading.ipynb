{
 "cells": [
  {
   "attachments": {},
   "cell_type": "markdown",
   "metadata": {},
   "source": [
    "## Calling the api to get data"
   ]
  },
  {
   "cell_type": "code",
   "execution_count": 9,
   "metadata": {},
   "outputs": [
    {
     "name": "stderr",
     "output_type": "stream",
     "text": [
      "2023-02-05 03:03:28,226 INFO Welcome to the CDS\n",
      "2023-02-05 03:03:28,227 INFO Sending request to https://cds.climate.copernicus.eu/api/v2/resources/reanalysis-era5-single-levels-monthly-means\n",
      "2023-02-05 03:03:28,288 INFO Request is queued\n",
      "2023-02-05 03:03:29,335 INFO Request is running\n",
      "2023-02-05 03:04:17,926 INFO Request is completed\n",
      "2023-02-05 03:04:17,927 INFO Downloading https://download-0010-clone.copernicus-climate.eu/cache-compute-0010/cache/data1/adaptor.mars.internal-1675562609.0645404-27570-8-d41c3d41-4ce2-4088-9faf-de73fef6b77e.grib to download.grib (337.5K)\n",
      "2023-02-05 03:04:18,306 INFO Download rate 891.3K/s\n"
     ]
    },
    {
     "data": {
      "text/plain": [
       "Result(content_length=345600,content_type=application/x-grib,location=https://download-0010-clone.copernicus-climate.eu/cache-compute-0010/cache/data1/adaptor.mars.internal-1675562609.0645404-27570-8-d41c3d41-4ce2-4088-9faf-de73fef6b77e.grib)"
      ]
     },
     "execution_count": 9,
     "metadata": {},
     "output_type": "execute_result"
    }
   ],
   "source": [
    "import cdsapi\n",
    "\n",
    "c = cdsapi.Client()\n",
    "\n",
    "c.retrieve(\n",
    "    'reanalysis-era5-single-levels-monthly-means',\n",
    "    {\n",
    "        'product_type': 'monthly_averaged_reanalysis_by_hour_of_day',\n",
    "        'variable': '2m_temperature',\n",
    "        'year': [\n",
    "            '2018', '2019', '2020',\n",
    "            '2021', '2022',\n",
    "        ],\n",
    "        'month': [\n",
    "            '01', '02', '03',\n",
    "            '04', '05', '06',\n",
    "            '07', '08', '09',\n",
    "            '10', '11', '12',\n",
    "        ],\n",
    "        'time': [\n",
    "            '00:00', '01:00', '02:00',\n",
    "            '12:00', '13:00', '14:00',\n",
    "        ],\n",
    "        'area': [\n",
    "            39.39, -123.77, 35.14,\n",
    "            -118.77,\n",
    "        ],\n",
    "        'format': 'grib',\n",
    "    },\n",
    "    'download.grib')"
   ]
  },
  {
   "cell_type": "code",
   "execution_count": 1,
   "metadata": {},
   "outputs": [],
   "source": [
    "import xarray as xr\n",
    "import pandas as pd"
   ]
  },
  {
   "attachments": {},
   "cell_type": "markdown",
   "metadata": {},
   "source": [
    "### Converting t2m to a dataframe"
   ]
  },
  {
   "cell_type": "code",
   "execution_count": 2,
   "metadata": {},
   "outputs": [
    {
     "data": {
      "text/html": [
       "<div>\n",
       "<style scoped>\n",
       "    .dataframe tbody tr th:only-of-type {\n",
       "        vertical-align: middle;\n",
       "    }\n",
       "\n",
       "    .dataframe tbody tr th {\n",
       "        vertical-align: top;\n",
       "    }\n",
       "\n",
       "    .dataframe thead th {\n",
       "        text-align: right;\n",
       "    }\n",
       "</style>\n",
       "<table border=\"1\" class=\"dataframe\">\n",
       "  <thead>\n",
       "    <tr style=\"text-align: right;\">\n",
       "      <th></th>\n",
       "      <th></th>\n",
       "      <th></th>\n",
       "      <th>number</th>\n",
       "      <th>step</th>\n",
       "      <th>surface</th>\n",
       "      <th>valid_time</th>\n",
       "      <th>t2m</th>\n",
       "    </tr>\n",
       "    <tr>\n",
       "      <th>time</th>\n",
       "      <th>latitude</th>\n",
       "      <th>longitude</th>\n",
       "      <th></th>\n",
       "      <th></th>\n",
       "      <th></th>\n",
       "      <th></th>\n",
       "      <th></th>\n",
       "    </tr>\n",
       "  </thead>\n",
       "  <tbody>\n",
       "    <tr>\n",
       "      <th rowspan=\"5\" valign=\"top\">2018-01-01 00:00:00</th>\n",
       "      <th rowspan=\"5\" valign=\"top\">39.39</th>\n",
       "      <th>-123.77</th>\n",
       "      <td>0</td>\n",
       "      <td>0 days</td>\n",
       "      <td>0.0</td>\n",
       "      <td>2018-01-01 00:00:00</td>\n",
       "      <td>285.277344</td>\n",
       "    </tr>\n",
       "    <tr>\n",
       "      <th>-123.52</th>\n",
       "      <td>0</td>\n",
       "      <td>0 days</td>\n",
       "      <td>0.0</td>\n",
       "      <td>2018-01-01 00:00:00</td>\n",
       "      <td>285.104980</td>\n",
       "    </tr>\n",
       "    <tr>\n",
       "      <th>-123.27</th>\n",
       "      <td>0</td>\n",
       "      <td>0 days</td>\n",
       "      <td>0.0</td>\n",
       "      <td>2018-01-01 00:00:00</td>\n",
       "      <td>284.498535</td>\n",
       "    </tr>\n",
       "    <tr>\n",
       "      <th>-123.02</th>\n",
       "      <td>0</td>\n",
       "      <td>0 days</td>\n",
       "      <td>0.0</td>\n",
       "      <td>2018-01-01 00:00:00</td>\n",
       "      <td>283.796875</td>\n",
       "    </tr>\n",
       "    <tr>\n",
       "      <th>-122.77</th>\n",
       "      <td>0</td>\n",
       "      <td>0 days</td>\n",
       "      <td>0.0</td>\n",
       "      <td>2018-01-01 00:00:00</td>\n",
       "      <td>283.614746</td>\n",
       "    </tr>\n",
       "    <tr>\n",
       "      <th>...</th>\n",
       "      <th>...</th>\n",
       "      <th>...</th>\n",
       "      <td>...</td>\n",
       "      <td>...</td>\n",
       "      <td>...</td>\n",
       "      <td>...</td>\n",
       "      <td>...</td>\n",
       "    </tr>\n",
       "    <tr>\n",
       "      <th rowspan=\"5\" valign=\"top\">2022-12-01 14:00:00</th>\n",
       "      <th rowspan=\"5\" valign=\"top\">35.14</th>\n",
       "      <th>-119.77</th>\n",
       "      <td>0</td>\n",
       "      <td>0 days</td>\n",
       "      <td>0.0</td>\n",
       "      <td>2022-12-01 14:00:00</td>\n",
       "      <td>280.142822</td>\n",
       "    </tr>\n",
       "    <tr>\n",
       "      <th>-119.52</th>\n",
       "      <td>0</td>\n",
       "      <td>0 days</td>\n",
       "      <td>0.0</td>\n",
       "      <td>2022-12-01 14:00:00</td>\n",
       "      <td>280.525146</td>\n",
       "    </tr>\n",
       "    <tr>\n",
       "      <th>-119.27</th>\n",
       "      <td>0</td>\n",
       "      <td>0 days</td>\n",
       "      <td>0.0</td>\n",
       "      <td>2022-12-01 14:00:00</td>\n",
       "      <td>280.134521</td>\n",
       "    </tr>\n",
       "    <tr>\n",
       "      <th>-119.02</th>\n",
       "      <td>0</td>\n",
       "      <td>0 days</td>\n",
       "      <td>0.0</td>\n",
       "      <td>2022-12-01 14:00:00</td>\n",
       "      <td>279.434814</td>\n",
       "    </tr>\n",
       "    <tr>\n",
       "      <th>-118.77</th>\n",
       "      <td>0</td>\n",
       "      <td>0 days</td>\n",
       "      <td>0.0</td>\n",
       "      <td>2022-12-01 14:00:00</td>\n",
       "      <td>277.906494</td>\n",
       "    </tr>\n",
       "  </tbody>\n",
       "</table>\n",
       "<p>136080 rows × 5 columns</p>\n",
       "</div>"
      ],
      "text/plain": [
       "                                        number   step  surface  \\\n",
       "time                latitude longitude                           \n",
       "2018-01-01 00:00:00 39.39    -123.77         0 0 days      0.0   \n",
       "                             -123.52         0 0 days      0.0   \n",
       "                             -123.27         0 0 days      0.0   \n",
       "                             -123.02         0 0 days      0.0   \n",
       "                             -122.77         0 0 days      0.0   \n",
       "...                                        ...    ...      ...   \n",
       "2022-12-01 14:00:00 35.14    -119.77         0 0 days      0.0   \n",
       "                             -119.52         0 0 days      0.0   \n",
       "                             -119.27         0 0 days      0.0   \n",
       "                             -119.02         0 0 days      0.0   \n",
       "                             -118.77         0 0 days      0.0   \n",
       "\n",
       "                                                valid_time         t2m  \n",
       "time                latitude longitude                                  \n",
       "2018-01-01 00:00:00 39.39    -123.77   2018-01-01 00:00:00  285.277344  \n",
       "                             -123.52   2018-01-01 00:00:00  285.104980  \n",
       "                             -123.27   2018-01-01 00:00:00  284.498535  \n",
       "                             -123.02   2018-01-01 00:00:00  283.796875  \n",
       "                             -122.77   2018-01-01 00:00:00  283.614746  \n",
       "...                                                    ...         ...  \n",
       "2022-12-01 14:00:00 35.14    -119.77   2022-12-01 14:00:00  280.142822  \n",
       "                             -119.52   2022-12-01 14:00:00  280.525146  \n",
       "                             -119.27   2022-12-01 14:00:00  280.134521  \n",
       "                             -119.02   2022-12-01 14:00:00  279.434814  \n",
       "                             -118.77   2022-12-01 14:00:00  277.906494  \n",
       "\n",
       "[136080 rows x 5 columns]"
      ]
     },
     "execution_count": 2,
     "metadata": {},
     "output_type": "execute_result"
    }
   ],
   "source": [
    "ds=xr.open_dataset(\"hello.grib\",engine='cfgrib',backend_kwargs={'indexpath': ''})\n",
    "data=ds['t2m'].to_dataframe()\n",
    "data"
   ]
  },
  {
   "attachments": {},
   "cell_type": "markdown",
   "metadata": {},
   "source": [
    "#### Exporting as a csv"
   ]
  },
  {
   "cell_type": "code",
   "execution_count": null,
   "metadata": {},
   "outputs": [],
   "source": [
    "data[\"t2m\"].to_csv(\"final_data.csv\")"
   ]
  }
 ],
 "metadata": {
  "kernelspec": {
   "display_name": "Python 3",
   "language": "python",
   "name": "python3"
  },
  "language_info": {
   "codemirror_mode": {
    "name": "ipython",
    "version": 3
   },
   "file_extension": ".py",
   "mimetype": "text/x-python",
   "name": "python",
   "nbconvert_exporter": "python",
   "pygments_lexer": "ipython3",
   "version": "3.9.6"
  },
  "orig_nbformat": 4,
  "vscode": {
   "interpreter": {
    "hash": "25034407fed5d681614dac11a1c0537e8cb49e3a8883c071303eea01322943d9"
   }
  }
 },
 "nbformat": 4,
 "nbformat_minor": 2
}
